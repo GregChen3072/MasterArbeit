{
 "cells": [
  {
   "cell_type": "markdown",
   "metadata": {},
   "source": [
    "# Data Visualization for Master Thesis"
   ]
  },
  {
   "cell_type": "code",
   "execution_count": null,
   "metadata": {},
   "outputs": [],
   "source": []
  },
  {
   "cell_type": "markdown",
   "metadata": {},
   "source": [
    "Introduction"
   ]
  },
  {
   "cell_type": "markdown",
   "metadata": {},
   "source": [
    "## Import Resources"
   ]
  },
  {
   "cell_type": "code",
   "execution_count": 33,
   "metadata": {},
   "outputs": [],
   "source": [
    "import pandas as pd\n",
    "import numpy as np\n",
    "import matplotlib.pyplot as plt\n",
    "import seaborn as sns"
   ]
  },
  {
   "cell_type": "markdown",
   "metadata": {},
   "source": [
    "## Data Visualization"
   ]
  },
  {
   "cell_type": "markdown",
   "metadata": {},
   "source": [
    "### Vis 1"
   ]
  },
  {
   "cell_type": "code",
   "execution_count": 4,
   "metadata": {},
   "outputs": [],
   "source": [
    "path_1_1 = \"/Users/greg/Downloads/AR_Master_Thesis/output/vis_HCC_1_1.csv\"\n",
    "path_1_2 = \"/Users/greg/Downloads/AR_Master_Thesis/output/vis_HCC_1_2.csv\"\n",
    "path_1_3 = \"/Users/greg/Downloads/AR_Master_Thesis/output/vis_HCC_1_3.csv\"\n",
    "\n",
    "df_1_1 = pd.read_csv(path_1_1, index_col=False)\n",
    "df_1_2 = pd.read_csv(path_1_2, index_col=False)\n",
    "df_1_3 = pd.read_csv(path_1_3, index_col=False)\n",
    "\n",
    "def percentile(n):\n",
    "    def percentile_(x):\n",
    "        return np.percentile(x, n)\n",
    "    percentile_.__name__ = '%s' % n\n",
    "    return percentile_"
   ]
  },
  {
   "cell_type": "code",
   "execution_count": 5,
   "metadata": {},
   "outputs": [],
   "source": [
    "# column.agg([np.sum, np.mean, np.std, np.median, np.var, np.min, np.max, percentile(25), percentile(75)])\n",
    "#df_1_1.quantile([.25, .75])\n",
    "plot_1_1 = df_1_1.groupby(['n', 'e']).agg([np.mean, percentile(25), percentile(75)]).reset_index()\n",
    "plot_1_2 = df_1_2.groupby(['n', 'e']).agg([np.mean, percentile(25), percentile(75)]).reset_index()\n",
    "plot_1_3 = df_1_3.groupby(['n', 'e', 'r']).agg([np.mean, percentile(25), percentile(75)]).reset_index()"
   ]
  },
  {
   "cell_type": "code",
   "execution_count": 6,
   "metadata": {},
   "outputs": [],
   "source": [
    "plot_1_1.columns = ['_'.join(col) for col in plot_1_1.columns]\n",
    "plot_1_2.columns = ['_'.join(col) for col in plot_1_2.columns]\n",
    "plot_1_3.columns = ['_'.join(col) for col in plot_1_3.columns]"
   ]
  },
  {
   "cell_type": "code",
   "execution_count": 21,
   "metadata": {},
   "outputs": [
    {
     "data": {
      "text/html": [
       "<div>\n",
       "<style scoped>\n",
       "    .dataframe tbody tr th:only-of-type {\n",
       "        vertical-align: middle;\n",
       "    }\n",
       "\n",
       "    .dataframe tbody tr th {\n",
       "        vertical-align: top;\n",
       "    }\n",
       "\n",
       "    .dataframe thead th {\n",
       "        text-align: right;\n",
       "    }\n",
       "</style>\n",
       "<table border=\"1\" class=\"dataframe\">\n",
       "  <thead>\n",
       "    <tr style=\"text-align: right;\">\n",
       "      <th></th>\n",
       "      <th>n_</th>\n",
       "      <th>e_</th>\n",
       "      <th>s_mean</th>\n",
       "      <th>s_25</th>\n",
       "      <th>s_75</th>\n",
       "      <th>F-1 Score_mean</th>\n",
       "      <th>F-1 Score_25</th>\n",
       "      <th>F-1 Score_75</th>\n",
       "      <th>MCC Score_mean</th>\n",
       "      <th>MCC Score_25</th>\n",
       "      <th>MCC Score_75</th>\n",
       "      <th>AUC Score_mean</th>\n",
       "      <th>AUC Score_25</th>\n",
       "      <th>AUC Score_75</th>\n",
       "      <th>ACC Score_mean</th>\n",
       "      <th>ACC Score_25</th>\n",
       "      <th>ACC Score_75</th>\n",
       "    </tr>\n",
       "  </thead>\n",
       "  <tbody>\n",
       "    <tr>\n",
       "      <th>0</th>\n",
       "      <td>1</td>\n",
       "      <td>500</td>\n",
       "      <td>50.5</td>\n",
       "      <td>25.75</td>\n",
       "      <td>75.25</td>\n",
       "      <td>0.862253</td>\n",
       "      <td>0.833333</td>\n",
       "      <td>0.901961</td>\n",
       "      <td>0.769152</td>\n",
       "      <td>0.713607</td>\n",
       "      <td>0.835791</td>\n",
       "      <td>0.883067</td>\n",
       "      <td>0.857588</td>\n",
       "      <td>0.915281</td>\n",
       "      <td>0.883067</td>\n",
       "      <td>0.857588</td>\n",
       "      <td>0.915281</td>\n",
       "    </tr>\n",
       "  </tbody>\n",
       "</table>\n",
       "</div>"
      ],
      "text/plain": [
       "   n_   e_  s_mean   s_25   s_75  F-1 Score_mean  F-1 Score_25  F-1 Score_75  \\\n",
       "0   1  500    50.5  25.75  75.25        0.862253      0.833333      0.901961   \n",
       "\n",
       "   MCC Score_mean  MCC Score_25  MCC Score_75  AUC Score_mean  AUC Score_25  \\\n",
       "0        0.769152      0.713607      0.835791        0.883067      0.857588   \n",
       "\n",
       "   AUC Score_75  ACC Score_mean  ACC Score_25  ACC Score_75  \n",
       "0      0.915281        0.883067      0.857588      0.915281  "
      ]
     },
     "execution_count": 21,
     "metadata": {},
     "output_type": "execute_result"
    }
   ],
   "source": [
    "plot_1_1\n"
   ]
  },
  {
   "cell_type": "code",
   "execution_count": 24,
   "metadata": {},
   "outputs": [
    {
     "data": {
      "image/png": "[encoded data removed]",
      "text/plain": [
       "<Figure size 432x288 with 1 Axes>"
      ]
     },
     "metadata": {
      "needs_background": "light"
     },
     "output_type": "display_data"
    }
   ],
   "source": [
    "# Plot mean estimate as a line\n",
    "plt.plot('n_', 'AUC Score_mean', data = plot_1_2, linewidth=1, alpha=1, color=\"firebrick\", marker='o')\n",
    "plt.plot('n_', 'AUC Score_25', data = plot_1_2, linewidth=0.5, alpha=0.7, color=\"firebrick\", linestyle='--')\n",
    "plt.plot('n_', 'AUC Score_75', data = plot_1_2, linewidth=0.5, alpha=0.7, color=\"firebrick\", linestyle='--')\n",
    "\n",
    "# Fill between the upper and lower bands\n",
    "plt.fill_between(x = 'n_', \n",
    "                 y1 = 'AUC Score_25', y2 = 'AUC Score_75', \n",
    "                 data = plot_1_2, alpha=0.1, color=\"firebrick\")\n",
    "\n",
    "plt.plot('n_', 'AUC Score_mean', data = plot_1_3, linewidth=1, alpha=1, color=\"cornflowerblue\", marker='o')\n",
    "plt.plot('n_', 'AUC Score_25', data = plot_1_3, linewidth=0.5, alpha=0.7, color=\"cornflowerblue\", linestyle='--')\n",
    "plt.plot('n_', 'AUC Score_75', data = plot_1_3, linewidth=0.5, alpha=0.7, color=\"cornflowerblue\", linestyle='--')\n",
    "\n",
    "# Fill between the upper and lower bands\n",
    "plt.fill_between(x = 'n_', \n",
    "                 y1 = 'AUC Score_25', y2 = 'AUC Score_75', \n",
    "                 data = plot_1_3, alpha=0.1, color=\"cornflowerblue\")\n",
    "\n",
    "plt.axhline(y=0.883067, color='r', linestyle='-')\n",
    "\n",
    "plt.title(\"N-Site Problem ILPD\", alpha=0.8, fontsize=14)\n",
    "plt.xlabel(\"Number of Sites\", alpha=0.8, fontsize=12)\n",
    "plt.ylabel(\"AUC Score\", alpha=0.8, fontsize=12)\n",
    "\n",
    "plt.show()\n"
   ]
  },
  {
   "cell_type": "markdown",
   "metadata": {},
   "source": [
    "### Vis 2: Inter-Site Sample Size Imbalance"
   ]
  },
  {
   "cell_type": "code",
   "execution_count": 88,
   "metadata": {},
   "outputs": [],
   "source": [
    "path_2_2_u = \"/Users/greg/Downloads/AR_Master_Thesis/output/vis_HCC_2_2_unweighted.csv\"\n",
    "path_2_2_w = \"/Users/greg/Downloads/AR_Master_Thesis/output/vis_HCC_2_2_weighted.csv\"\n",
    "path_2_3_u = \"/Users/greg/Downloads/AR_Master_Thesis/output/vis_HCC_2_3_unweighted.csv\"\n",
    "path_2_3_w = \"/Users/greg/Downloads/AR_Master_Thesis/output/vis_HCC_2_3_weighted.csv\"\n",
    "\n",
    "df_2_2_u = pd.read_csv(path_2_2_u, index_col=False).groupby(['Degree Imbalance']).agg('mean').reset_index()\n",
    "df_2_2_w = pd.read_csv(path_2_2_w, index_col=False).groupby(['Degree Imbalance']).agg('mean').reset_index()\n",
    "df_2_3_u = pd.read_csv(path_2_3_u, index_col=False).groupby(['Degree Imbalance']).agg('mean').reset_index()\n",
    "df_2_3_w = pd.read_csv(path_2_3_w, index_col=False).groupby(['Degree Imbalance']).agg('mean').reset_index()"
   ]
  },
  {
   "cell_type": "code",
   "execution_count": 93,
   "metadata": {},
   "outputs": [
    {
     "data": {
      "image/png": "[encoded data removed]",
      "text/plain": [
       "<Figure size 432x288 with 1 Axes>"
      ]
     },
     "metadata": {
      "needs_background": "light"
     },
     "output_type": "display_data"
    }
   ],
   "source": [
    "# Plot mean estimate as a line\n",
    "# plt.plot('n_', 'AUC Score_mean', data = plot_1_2, linewidth=1, alpha=1, color=\"crimson\", marker='o')\n",
    "plt.plot('Degree Imbalance', 'AUC Score', data = df_2_2_u, linewidth=0.8, alpha=0.7, color=\"royalblue\", linestyle='-')\n",
    "plt.plot('Degree Imbalance', 'AUC Score', data = df_2_2_w, linewidth=0.8, alpha=0.7, color=\"crimson\", linestyle='-')\n",
    "plt.plot('Degree Imbalance', 'AUC Score', data = df_2_3_u, linewidth=0.8, alpha=0.7, color=\"darkorange\", linestyle='-')\n",
    "plt.plot('Degree Imbalance', 'AUC Score', data = df_2_3_w, linewidth=0.8, alpha=0.7, color=\"limegreen\", linestyle='-')\n",
    "\n",
    "plt.axhline(y=0.883067, color='grey', linestyle='--')\n",
    "\n",
    "plt.title(\"Inter-Site HCC\", alpha=0.8, fontsize=14)\n",
    "plt.xlabel(\"Degree of Imbalance\", alpha=0.8, fontsize=12)\n",
    "plt.ylabel(\"AUC Score\", alpha=0.8, fontsize=12)\n",
    "\n",
    "plt.legend(loc = 'center left', bbox_to_anchor = (1, 0.5))\n",
    "plt.show()\n"
   ]
  },
  {
   "cell_type": "markdown",
   "metadata": {},
   "source": [
    "### Vis 3: Communication Efficiency"
   ]
  },
  {
   "cell_type": "code",
   "execution_count": 34,
   "metadata": {},
   "outputs": [],
   "source": [
    "path_comm_effi = \"/Users/greg/Downloads/AR_Master_Thesis/output/vis_ILPD_comm_effi.csv\"\n",
    "df_comm_effi = pd.read_csv(path_comm_effi, index_col=False)"
   ]
  },
  {
   "cell_type": "code",
   "execution_count": 35,
   "metadata": {},
   "outputs": [
    {
     "data": {
      "text/plain": [
       "array([ 1,  2,  5, 10])"
      ]
     },
     "execution_count": 35,
     "metadata": {},
     "output_type": "execute_result"
    }
   ],
   "source": [
    "df_comm_effi.n.unique()"
   ]
  },
  {
   "cell_type": "code",
   "execution_count": null,
   "metadata": {},
   "outputs": [],
   "source": [
    "nrow = 2\n",
    "ncol = 2\n",
    "\n",
    "fig, axs = plt.subplots(nrow, ncol)\n",
    "for i, ax in enumerate(fig.axes):\n",
    "    # ax.set_ylabel(str(i))\n",
    "    print(i)\n",
    "    print(ax)\n",
    "\n",
    "# plt.show()"
   ]
  },
  {
   "cell_type": "code",
   "execution_count": 66,
   "metadata": {},
   "outputs": [
    {
     "data": {
      "text/html": [
       "<div>\n",
       "<style scoped>\n",
       "    .dataframe tbody tr th:only-of-type {\n",
       "        vertical-align: middle;\n",
       "    }\n",
       "\n",
       "    .dataframe tbody tr th {\n",
       "        vertical-align: top;\n",
       "    }\n",
       "\n",
       "    .dataframe thead th {\n",
       "        text-align: right;\n",
       "    }\n",
       "</style>\n",
       "<table border=\"1\" class=\"dataframe\">\n",
       "  <thead>\n",
       "    <tr style=\"text-align: right;\">\n",
       "      <th></th>\n",
       "      <th>r_</th>\n",
       "      <th>n_</th>\n",
       "      <th>e_</th>\n",
       "      <th>s_mean</th>\n",
       "      <th>s_var</th>\n",
       "      <th>v_mean</th>\n",
       "      <th>v_var</th>\n",
       "      <th>F_1 Score_mean</th>\n",
       "      <th>F_1 Score_var</th>\n",
       "      <th>MCC Score_mean</th>\n",
       "      <th>MCC Score_var</th>\n",
       "      <th>AUC Score_mean</th>\n",
       "      <th>AUC Score_var</th>\n",
       "      <th>ACC Score_mean</th>\n",
       "      <th>ACC Score_var</th>\n",
       "    </tr>\n",
       "  </thead>\n",
       "  <tbody>\n",
       "    <tr>\n",
       "      <th>0</th>\n",
       "      <td>1</td>\n",
       "      <td>1</td>\n",
       "      <td>1</td>\n",
       "      <td>50.5</td>\n",
       "      <td>841.666667</td>\n",
       "      <td>1.0</td>\n",
       "      <td>0.000000</td>\n",
       "      <td>0.828283</td>\n",
       "      <td>0.000000</td>\n",
       "      <td>0.000000</td>\n",
       "      <td>0.000000</td>\n",
       "      <td>0.500000</td>\n",
       "      <td>0.000000</td>\n",
       "      <td>0.500000</td>\n",
       "      <td>0.000000</td>\n",
       "    </tr>\n",
       "    <tr>\n",
       "      <th>1</th>\n",
       "      <td>1</td>\n",
       "      <td>1</td>\n",
       "      <td>2</td>\n",
       "      <td>50.5</td>\n",
       "      <td>841.666667</td>\n",
       "      <td>1.0</td>\n",
       "      <td>0.000000</td>\n",
       "      <td>0.821207</td>\n",
       "      <td>0.000848</td>\n",
       "      <td>0.013045</td>\n",
       "      <td>0.002859</td>\n",
       "      <td>0.507037</td>\n",
       "      <td>0.000833</td>\n",
       "      <td>0.507037</td>\n",
       "      <td>0.000833</td>\n",
       "    </tr>\n",
       "    <tr>\n",
       "      <th>2</th>\n",
       "      <td>1</td>\n",
       "      <td>1</td>\n",
       "      <td>5</td>\n",
       "      <td>50.5</td>\n",
       "      <td>841.666667</td>\n",
       "      <td>1.0</td>\n",
       "      <td>0.000000</td>\n",
       "      <td>0.780303</td>\n",
       "      <td>0.002599</td>\n",
       "      <td>0.116149</td>\n",
       "      <td>0.019182</td>\n",
       "      <td>0.556765</td>\n",
       "      <td>0.004590</td>\n",
       "      <td>0.556765</td>\n",
       "      <td>0.004590</td>\n",
       "    </tr>\n",
       "    <tr>\n",
       "      <th>3</th>\n",
       "      <td>1</td>\n",
       "      <td>1</td>\n",
       "      <td>10</td>\n",
       "      <td>50.5</td>\n",
       "      <td>841.666667</td>\n",
       "      <td>1.0</td>\n",
       "      <td>0.000000</td>\n",
       "      <td>0.790006</td>\n",
       "      <td>0.001487</td>\n",
       "      <td>0.174194</td>\n",
       "      <td>0.016662</td>\n",
       "      <td>0.575825</td>\n",
       "      <td>0.003698</td>\n",
       "      <td>0.575825</td>\n",
       "      <td>0.003698</td>\n",
       "    </tr>\n",
       "    <tr>\n",
       "      <th>4</th>\n",
       "      <td>1</td>\n",
       "      <td>2</td>\n",
       "      <td>1</td>\n",
       "      <td>50.5</td>\n",
       "      <td>837.437186</td>\n",
       "      <td>1.5</td>\n",
       "      <td>0.251256</td>\n",
       "      <td>0.824716</td>\n",
       "      <td>0.000441</td>\n",
       "      <td>0.004438</td>\n",
       "      <td>0.000726</td>\n",
       "      <td>0.502353</td>\n",
       "      <td>0.000203</td>\n",
       "      <td>0.502353</td>\n",
       "      <td>0.000203</td>\n",
       "    </tr>\n",
       "    <tr>\n",
       "      <th>...</th>\n",
       "      <td>...</td>\n",
       "      <td>...</td>\n",
       "      <td>...</td>\n",
       "      <td>...</td>\n",
       "      <td>...</td>\n",
       "      <td>...</td>\n",
       "      <td>...</td>\n",
       "      <td>...</td>\n",
       "      <td>...</td>\n",
       "      <td>...</td>\n",
       "      <td>...</td>\n",
       "      <td>...</td>\n",
       "      <td>...</td>\n",
       "      <td>...</td>\n",
       "      <td>...</td>\n",
       "    </tr>\n",
       "    <tr>\n",
       "      <th>75</th>\n",
       "      <td>5</td>\n",
       "      <td>5</td>\n",
       "      <td>10</td>\n",
       "      <td>50.5</td>\n",
       "      <td>833.583433</td>\n",
       "      <td>13.0</td>\n",
       "      <td>52.020808</td>\n",
       "      <td>0.767646</td>\n",
       "      <td>0.002278</td>\n",
       "      <td>0.147399</td>\n",
       "      <td>0.021472</td>\n",
       "      <td>0.569624</td>\n",
       "      <td>0.004815</td>\n",
       "      <td>0.569624</td>\n",
       "      <td>0.004815</td>\n",
       "    </tr>\n",
       "    <tr>\n",
       "      <th>76</th>\n",
       "      <td>5</td>\n",
       "      <td>10</td>\n",
       "      <td>1</td>\n",
       "      <td>50.5</td>\n",
       "      <td>833.416683</td>\n",
       "      <td>25.5</td>\n",
       "      <td>208.291658</td>\n",
       "      <td>0.746099</td>\n",
       "      <td>0.008017</td>\n",
       "      <td>0.141838</td>\n",
       "      <td>0.021840</td>\n",
       "      <td>0.572475</td>\n",
       "      <td>0.005638</td>\n",
       "      <td>0.572475</td>\n",
       "      <td>0.005638</td>\n",
       "    </tr>\n",
       "    <tr>\n",
       "      <th>77</th>\n",
       "      <td>5</td>\n",
       "      <td>10</td>\n",
       "      <td>2</td>\n",
       "      <td>50.5</td>\n",
       "      <td>833.416683</td>\n",
       "      <td>25.5</td>\n",
       "      <td>208.291658</td>\n",
       "      <td>0.766385</td>\n",
       "      <td>0.005130</td>\n",
       "      <td>0.125277</td>\n",
       "      <td>0.019261</td>\n",
       "      <td>0.559241</td>\n",
       "      <td>0.004041</td>\n",
       "      <td>0.559241</td>\n",
       "      <td>0.004041</td>\n",
       "    </tr>\n",
       "    <tr>\n",
       "      <th>78</th>\n",
       "      <td>5</td>\n",
       "      <td>10</td>\n",
       "      <td>5</td>\n",
       "      <td>50.5</td>\n",
       "      <td>833.416683</td>\n",
       "      <td>25.5</td>\n",
       "      <td>208.291658</td>\n",
       "      <td>0.750133</td>\n",
       "      <td>0.003638</td>\n",
       "      <td>0.127768</td>\n",
       "      <td>0.018669</td>\n",
       "      <td>0.561421</td>\n",
       "      <td>0.004011</td>\n",
       "      <td>0.561421</td>\n",
       "      <td>0.004011</td>\n",
       "    </tr>\n",
       "    <tr>\n",
       "      <th>79</th>\n",
       "      <td>5</td>\n",
       "      <td>10</td>\n",
       "      <td>10</td>\n",
       "      <td>50.5</td>\n",
       "      <td>833.416683</td>\n",
       "      <td>25.5</td>\n",
       "      <td>208.291658</td>\n",
       "      <td>0.748113</td>\n",
       "      <td>0.002575</td>\n",
       "      <td>0.123348</td>\n",
       "      <td>0.018067</td>\n",
       "      <td>0.559894</td>\n",
       "      <td>0.004361</td>\n",
       "      <td>0.559894</td>\n",
       "      <td>0.004361</td>\n",
       "    </tr>\n",
       "  </tbody>\n",
       "</table>\n",
       "<p>80 rows × 15 columns</p>\n",
       "</div>"
      ],
      "text/plain": [
       "    r_  n_  e_  s_mean       s_var  v_mean       v_var  F_1 Score_mean  \\\n",
       "0    1   1   1    50.5  841.666667     1.0    0.000000        0.828283   \n",
       "1    1   1   2    50.5  841.666667     1.0    0.000000        0.821207   \n",
       "2    1   1   5    50.5  841.666667     1.0    0.000000        0.780303   \n",
       "3    1   1  10    50.5  841.666667     1.0    0.000000        0.790006   \n",
       "4    1   2   1    50.5  837.437186     1.5    0.251256        0.824716   \n",
       "..  ..  ..  ..     ...         ...     ...         ...             ...   \n",
       "75   5   5  10    50.5  833.583433    13.0   52.020808        0.767646   \n",
       "76   5  10   1    50.5  833.416683    25.5  208.291658        0.746099   \n",
       "77   5  10   2    50.5  833.416683    25.5  208.291658        0.766385   \n",
       "78   5  10   5    50.5  833.416683    25.5  208.291658        0.750133   \n",
       "79   5  10  10    50.5  833.416683    25.5  208.291658        0.748113   \n",
       "\n",
       "    F_1 Score_var  MCC Score_mean  MCC Score_var  AUC Score_mean  \\\n",
       "0        0.000000        0.000000       0.000000        0.500000   \n",
       "1        0.000848        0.013045       0.002859        0.507037   \n",
       "2        0.002599        0.116149       0.019182        0.556765   \n",
       "3        0.001487        0.174194       0.016662        0.575825   \n",
       "4        0.000441        0.004438       0.000726        0.502353   \n",
       "..            ...             ...            ...             ...   \n",
       "75       0.002278        0.147399       0.021472        0.569624   \n",
       "76       0.008017        0.141838       0.021840        0.572475   \n",
       "77       0.005130        0.125277       0.019261        0.559241   \n",
       "78       0.003638        0.127768       0.018669        0.561421   \n",
       "79       0.002575        0.123348       0.018067        0.559894   \n",
       "\n",
       "    AUC Score_var  ACC Score_mean  ACC Score_var  \n",
       "0        0.000000        0.500000       0.000000  \n",
       "1        0.000833        0.507037       0.000833  \n",
       "2        0.004590        0.556765       0.004590  \n",
       "3        0.003698        0.575825       0.003698  \n",
       "4        0.000203        0.502353       0.000203  \n",
       "..            ...             ...            ...  \n",
       "75       0.004815        0.569624       0.004815  \n",
       "76       0.005638        0.572475       0.005638  \n",
       "77       0.004041        0.559241       0.004041  \n",
       "78       0.004011        0.561421       0.004011  \n",
       "79       0.004361        0.559894       0.004361  \n",
       "\n",
       "[80 rows x 15 columns]"
      ]
     },
     "execution_count": 66,
     "metadata": {},
     "output_type": "execute_result"
    }
   ],
   "source": [
    "# df.groupby(['r', 'v', 'n', 'e']).agg([\"mean\", \"median\", \"var\"]).reset_index()\n",
    "df = df_comm_effi.groupby(['r', 'n', 'e']).agg([\"mean\", \"var\"]).reset_index()\n",
    "df.columns = ['_'.join(col) for col in df.columns]\n",
    "\n",
    "df"
   ]
  },
  {
   "cell_type": "code",
   "execution_count": 69,
   "metadata": {},
   "outputs": [
    {
     "data": {
      "image/png": "[encoded data removed]",
      "text/plain": [
       "<Figure size 432x288 with 1 Axes>"
      ]
     },
     "metadata": {
      "needs_background": "light"
     },
     "output_type": "display_data"
    }
   ],
   "source": [
    "#df[(df[\"n_\"] == 10) & (df[\"e_\"] == 2)][\"v\"]\n",
    "\n",
    "# Create a Figure and an Axes with plt.subplots\n",
    "fig, ax = plt.subplots()\n",
    "\n",
    "# Plot Seattle data, setting data appearance\n",
    "ax.plot(df[(df[\"n_\"] == 10) & (df[\"e_\"] == 1)][\"r_\"], df[(df[\"n_\"] == 10) & (df[\"e_\"] == 1)][\"AUC Score_mean\"], color='b', marker='o', linestyle='--')\n",
    "ax.plot(df[(df[\"n_\"] == 10) & (df[\"e_\"] == 2)][\"r_\"], df[(df[\"n_\"] == 10) & (df[\"e_\"] == 2)][\"AUC Score_mean\"], color='b', marker='o', linestyle='--')\n",
    "ax.plot(df[(df[\"n_\"] == 10) & (df[\"e_\"] == 5)][\"r_\"], df[(df[\"n_\"] == 10) & (df[\"e_\"] == 5)][\"AUC Score_mean\"], color='b', marker='o', linestyle='--')\n",
    "ax.plot(df[(df[\"n_\"] == 10) & (df[\"e_\"] == 10)][\"r_\"], df[(df[\"n_\"] == 10) & (df[\"e_\"] == 10)][\"AUC Score_mean\"], color='b', marker='o', linestyle='--')\n",
    "\n",
    "# Call show to display the resulting plot\n",
    "plt.show()"
   ]
  },
  {
   "cell_type": "code",
   "execution_count": 70,
   "metadata": {},
   "outputs": [
    {
     "data": {
      "text/plain": [
       "(284807, 31)"
      ]
     },
     "execution_count": 70,
     "metadata": {},
     "output_type": "execute_result"
    }
   ],
   "source": [
    "path = \"/Users/greg/Downloads/AR_Master_Thesis/data/creditcard.csv\"\n",
    "data = pd.read_csv(path)\n",
    "data.shape"
   ]
  },
  {
   "cell_type": "code",
   "execution_count": 79,
   "metadata": {},
   "outputs": [
    {
     "data": {
      "image/png": "[encoded data removed]",
      "text/plain": [
       "<Figure size 432x288 with 4 Axes>"
      ]
     },
     "metadata": {
      "needs_background": "light"
     },
     "output_type": "display_data"
    }
   ],
   "source": [
    "plt.style.use(\"tableau-colorblind10\")\n",
    "\n",
    "fig, ax = plt.subplots(2, 2, sharey=False, sharex=True)\n",
    "\n",
    "# for i, ax in enumerate(fig.axes):\n",
    "#     ax.set_xlabel(str(ax))\n",
    "#     ax.set_ylabel(str(i))\n",
    "\n",
    "ax[0, 0].plot(df[(df[\"n_\"] == 1) & (df[\"e_\"] == 1)][\"r_\"], df[(df[\"n_\"] == 1) & (df[\"e_\"] == 1)][\"AUC Score_mean\"], color='b')\n",
    "ax[0, 0].plot(df[(df[\"n_\"] == 1) & (df[\"e_\"] == 2)][\"r_\"], df[(df[\"n_\"] == 1) & (df[\"e_\"] == 2)][\"AUC Score_mean\"], color='b')\n",
    "ax[0, 0].plot(df[(df[\"n_\"] == 1) & (df[\"e_\"] == 5)][\"r_\"], df[(df[\"n_\"] == 1) & (df[\"e_\"] == 5)][\"AUC Score_mean\"], color='b')\n",
    "ax[0, 0].plot(df[(df[\"n_\"] == 1) & (df[\"e_\"] == 10)][\"r_\"], df[(df[\"n_\"] == 1) & (df[\"e_\"] == 10)][\"AUC Score_mean\"], color='b')\n",
    "\n",
    "ax[0, 1].plot(df[(df[\"n_\"] == 2) & (df[\"e_\"] == 1)][\"r_\"], df[(df[\"n_\"] == 2) & (df[\"e_\"] == 1)][\"AUC Score_mean\"], color='b')\n",
    "ax[0, 1].plot(df[(df[\"n_\"] == 2) & (df[\"e_\"] == 2)][\"r_\"], df[(df[\"n_\"] == 2) & (df[\"e_\"] == 2)][\"AUC Score_mean\"], color='b')\n",
    "ax[0, 1].plot(df[(df[\"n_\"] == 2) & (df[\"e_\"] == 5)][\"r_\"], df[(df[\"n_\"] == 2) & (df[\"e_\"] == 5)][\"AUC Score_mean\"], color='b')\n",
    "ax[0, 1].plot(df[(df[\"n_\"] == 2) & (df[\"e_\"] == 10)][\"r_\"], df[(df[\"n_\"] == 2) & (df[\"e_\"] == 10)][\"AUC Score_mean\"], color='b')\n",
    "\n",
    "ax[1, 0].plot(df[(df[\"n_\"] == 5) & (df[\"e_\"] == 1)][\"r_\"], df[(df[\"n_\"] == 5) & (df[\"e_\"] == 1)][\"AUC Score_mean\"], color='b')\n",
    "ax[1, 0].plot(df[(df[\"n_\"] == 5) & (df[\"e_\"] == 2)][\"r_\"], df[(df[\"n_\"] == 5) & (df[\"e_\"] == 2)][\"AUC Score_mean\"], color='b')\n",
    "ax[1, 0].plot(df[(df[\"n_\"] == 5) & (df[\"e_\"] == 5)][\"r_\"], df[(df[\"n_\"] == 5) & (df[\"e_\"] == 5)][\"AUC Score_mean\"], color='b')\n",
    "ax[1, 0].plot(df[(df[\"n_\"] == 5) & (df[\"e_\"] == 10)][\"r_\"], df[(df[\"n_\"] == 5) & (df[\"e_\"] == 10)][\"AUC Score_mean\"], color='b')\n",
    "\n",
    "ax[1, 1].plot(df[(df[\"n_\"] == 10) & (df[\"e_\"] == 1)][\"r_\"], df[(df[\"n_\"] == 10) & (df[\"e_\"] == 1)][\"AUC Score_mean\"], color='b')\n",
    "ax[1, 1].plot(df[(df[\"n_\"] == 10) & (df[\"e_\"] == 2)][\"r_\"], df[(df[\"n_\"] == 10) & (df[\"e_\"] == 2)][\"AUC Score_mean\"], color='b')\n",
    "ax[1, 1].plot(df[(df[\"n_\"] == 10) & (df[\"e_\"] == 5)][\"r_\"], df[(df[\"n_\"] == 10) & (df[\"e_\"] == 5)][\"AUC Score_mean\"], color='b')\n",
    "ax[1, 1].plot(df[(df[\"n_\"] == 10) & (df[\"e_\"] == 10)][\"r_\"], df[(df[\"n_\"] == 10) & (df[\"e_\"] == 10)][\"AUC Score_mean\"], color='b')\n",
    "\n",
    "#ax[0, 0].set_ylabel(\"Precipitation (inches)\")\n",
    "#ax[1, 1].set_ylabel(\"Precipitation (inches)\")\n",
    "#ax[1, 1].set_xlabel(\"Time (months)\")\n",
    "\n",
    "\n",
    "plt.show()"
   ]
  },
  {
   "cell_type": "code",
   "execution_count": null,
   "metadata": {},
   "outputs": [],
   "source": [
    "plt.style.use(\"tableau-colorblind10\")\n",
    "fig, ax = plt.subplots(2, 2, sharey=True) # Sharing the y-axis range\n",
    "\n",
    "# Decrase interval thickness as interval widens\n",
    "sizes =      [      15,    10,     5]\n",
    "int_widths = ['90% CI', '95%', '99%']\n",
    "z_scores =   [    1.67,  1.96,  2.58]\n",
    "\n",
    "for percent, Z, size in zip(int_widths, z_scores, sizes):\n",
    "    plt.hlines(y = rocket_model.pollutant, \n",
    "               xmin = rocket_model['est'] - Z*rocket_model['std_err'],\n",
    "               xmax = rocket_model['est'] + Z*rocket_model['std_err'],\n",
    "               label = percent, \n",
    "               # Resize lines and color them gray\n",
    "               linewidth = size, \n",
    "               color = 'gray') \n",
    "    \n",
    "# Add point estimate\n",
    "plt.plot('est', 'pollutant', 'wo', data = rocket_model, label = 'Point Estimate')\n",
    "\n",
    "plt.legend(loc = 'center left', bbox_to_anchor = (1, 0.5))\n",
    "plt.show()"
   ]
  },
  {
   "cell_type": "code",
   "execution_count": null,
   "metadata": {},
   "outputs": [],
   "source": [
    "\"\"\"         plt.ioff()\n",
    "        plt.figure()\n",
    "\n",
    "        plt.plot(local_metric.number_sites,\n",
    "                 local_metric[\"25%\"], linewidth=1, alpha=0.7, color=\"firebrick\")\n",
    "        plt.plot(local_metric.number_sites,\n",
    "                 local_metric[\"75%\"], linewidth=1, alpha=0.7, color=\"firebrick\")\n",
    "        plt.plot(local_metric.number_sites,\n",
    "                 local_metric[\"mean\"], linewidth=1, alpha=1, color=\"firebrick\")\n",
    "        plt.fill_between(local_metric.number_sites, local_metric[\"25%\"],\n",
    "                         local_metric[\"75%\"], alpha=0.3, color=\"firebrick\")\n",
    "\n",
    "        plt.plot(global_metric.number_sites,\n",
    "                 global_metric[\"25%\"], linewidth=1, alpha=0.7, color=\"cornflowerblue\")\n",
    "        plt.plot(global_metric.number_sites,\n",
    "                 global_metric[\"75%\"], linewidth=1, alpha=0.7, color=\"cornflowerblue\")\n",
    "        plt.plot(global_metric.number_sites,\n",
    "                 global_metric[\"mean\"], linewidth=1, alpha=1, color=\"cornflowerblue\")\n",
    "        plt.fill_between(global_metric.number_sites, global_metric[\"25%\"],\n",
    "                         global_metric[\"75%\"], alpha=0.3, color=\"cornflowerblue\")\n",
    "\n",
    "        sct1 = plt.scatter(global_metric.number_sites,\n",
    "                           global_metric[\"mean\"], color=\"cornflowerblue\", marker=\"o\", s=20)\n",
    "        sct2 = plt.scatter(local_metric.number_sites,\n",
    "                           local_metric[\"mean\"], color=\"firebrick\", marker=\"o\", s=20)\n",
    "\n",
    "        title = dataset_name + \" - \" + method + \" method, \" + \\\n",
    "            str(int(fraction*100)) + \" % of features dropped\"\n",
    "        plt.title(title, alpha=0.8, fontsize=14)\n",
    "        plt.xlabel(\"Number of Sites\", alpha=0.8, fontsize=12)\n",
    "        plt.ylabel(metric_name, alpha=0.8, fontsize=12) \"\"\""
   ]
  }
 ],
 "metadata": {
  "interpreter": {
   "hash": "aee8b7b246df8f9039afb4144a1f6fd8d2ca17a180786b69acc140d282b71a49"
  },
  "kernelspec": {
   "display_name": "Python 3.8.2 64-bit",
   "language": "python",
   "name": "python3"
  },
  "language_info": {
   "codemirror_mode": {
    "name": "ipython",
    "version": 3
   },
   "file_extension": ".py",
   "mimetype": "text/x-python",
   "name": "python",
   "nbconvert_exporter": "python",
   "pygments_lexer": "ipython3",
   "version": "3.8.2"
  },
  "orig_nbformat": 4
 },
 "nbformat": 4,
 "nbformat_minor": 2
}
