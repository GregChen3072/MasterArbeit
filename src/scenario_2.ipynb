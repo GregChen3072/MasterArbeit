{
 "cells": [
  {
   "cell_type": "markdown",
   "metadata": {},
   "source": [
    "# Master Thesis"
   ]
  },
  {
   "cell_type": "markdown",
   "metadata": {},
   "source": [
    "## Intro"
   ]
  },
  {
   "cell_type": "markdown",
   "metadata": {},
   "source": [
    "Introduction"
   ]
  },
  {
   "cell_type": "markdown",
   "metadata": {},
   "source": [
    "## Import Libraries"
   ]
  },
  {
   "cell_type": "code",
   "execution_count": 44,
   "metadata": {},
   "outputs": [],
   "source": [
    "import time\n",
    "import pandas as pd\n",
    "import numpy as np\n",
    "import seaborn as sns\n",
    "\n",
    "import matplotlib.pyplot as plt\n",
    "from matplotlib.patches import Patch\n",
    "cmap_data = plt.cm.Paired\n",
    "cmap_cv = plt.cm.coolwarm\n",
    "\n",
    "import scikitplot as skplt\n",
    "\n",
    "from sklearn.pipeline import Pipeline\n",
    "from sklearn.preprocessing import FunctionTransformer\n",
    "from sklearn.model_selection import train_test_split, cross_val_score, GridSearchCV, KFold, ShuffleSplit, StratifiedKFold, StratifiedShuffleSplit\n",
    "from sklearn.ensemble import AdaBoostClassifier, RandomForestClassifier\n",
    "from sklearn.metrics import make_scorer, balanced_accuracy_score, roc_auc_score, matthews_corrcoef, f1_score, confusion_matrix, classification_report, cohen_kappa_score\n",
    "\n",
    "import pickle"
   ]
  },
  {
   "cell_type": "markdown",
   "metadata": {},
   "source": [
    "## Timer starts"
   ]
  },
  {
   "cell_type": "code",
   "execution_count": 45,
   "metadata": {},
   "outputs": [],
   "source": [
    "# start_time = time.time()"
   ]
  },
  {
   "cell_type": "markdown",
   "metadata": {},
   "source": [
    "## Define Paths"
   ]
  },
  {
   "cell_type": "code",
   "execution_count": 46,
   "metadata": {},
   "outputs": [],
   "source": [
    "path_data_credit_card = \"/Users/greg/Downloads/AR_Master_Thesis/data/creditcard.csv\"\n",
    "path_HCC = \"/Users/greg/Downloads/AR_Master_Thesis/data/HCC_preprocessed.csv\"\n",
    "path_ILPD = \"/Users/greg/Downloads/AR_Master_Thesis/data/ILPD_preprocessed.csv\""
   ]
  },
  {
   "cell_type": "markdown",
   "metadata": {},
   "source": [
    "## Import data"
   ]
  },
  {
   "cell_type": "code",
   "execution_count": 47,
   "metadata": {},
   "outputs": [
    {
     "data": {
      "text/html": [
       "<div>\n",
       "<style scoped>\n",
       "    .dataframe tbody tr th:only-of-type {\n",
       "        vertical-align: middle;\n",
       "    }\n",
       "\n",
       "    .dataframe tbody tr th {\n",
       "        vertical-align: top;\n",
       "    }\n",
       "\n",
       "    .dataframe thead th {\n",
       "        text-align: right;\n",
       "    }\n",
       "</style>\n",
       "<table border=\"1\" class=\"dataframe\">\n",
       "  <thead>\n",
       "    <tr style=\"text-align: right;\">\n",
       "      <th></th>\n",
       "      <th>Time</th>\n",
       "      <th>V1</th>\n",
       "      <th>V2</th>\n",
       "      <th>V3</th>\n",
       "      <th>V4</th>\n",
       "      <th>V5</th>\n",
       "      <th>V6</th>\n",
       "      <th>V7</th>\n",
       "      <th>V8</th>\n",
       "      <th>V9</th>\n",
       "      <th>...</th>\n",
       "      <th>V21</th>\n",
       "      <th>V22</th>\n",
       "      <th>V23</th>\n",
       "      <th>V24</th>\n",
       "      <th>V25</th>\n",
       "      <th>V26</th>\n",
       "      <th>V27</th>\n",
       "      <th>V28</th>\n",
       "      <th>Amount</th>\n",
       "      <th>Class</th>\n",
       "    </tr>\n",
       "  </thead>\n",
       "  <tbody>\n",
       "    <tr>\n",
       "      <th>0</th>\n",
       "      <td>0.0</td>\n",
       "      <td>-1.359807</td>\n",
       "      <td>-0.072781</td>\n",
       "      <td>2.536347</td>\n",
       "      <td>1.378155</td>\n",
       "      <td>-0.338321</td>\n",
       "      <td>0.462388</td>\n",
       "      <td>0.239599</td>\n",
       "      <td>0.098698</td>\n",
       "      <td>0.363787</td>\n",
       "      <td>...</td>\n",
       "      <td>-0.018307</td>\n",
       "      <td>0.277838</td>\n",
       "      <td>-0.110474</td>\n",
       "      <td>0.066928</td>\n",
       "      <td>0.128539</td>\n",
       "      <td>-0.189115</td>\n",
       "      <td>0.133558</td>\n",
       "      <td>-0.021053</td>\n",
       "      <td>149.62</td>\n",
       "      <td>0</td>\n",
       "    </tr>\n",
       "    <tr>\n",
       "      <th>1</th>\n",
       "      <td>0.0</td>\n",
       "      <td>1.191857</td>\n",
       "      <td>0.266151</td>\n",
       "      <td>0.166480</td>\n",
       "      <td>0.448154</td>\n",
       "      <td>0.060018</td>\n",
       "      <td>-0.082361</td>\n",
       "      <td>-0.078803</td>\n",
       "      <td>0.085102</td>\n",
       "      <td>-0.255425</td>\n",
       "      <td>...</td>\n",
       "      <td>-0.225775</td>\n",
       "      <td>-0.638672</td>\n",
       "      <td>0.101288</td>\n",
       "      <td>-0.339846</td>\n",
       "      <td>0.167170</td>\n",
       "      <td>0.125895</td>\n",
       "      <td>-0.008983</td>\n",
       "      <td>0.014724</td>\n",
       "      <td>2.69</td>\n",
       "      <td>0</td>\n",
       "    </tr>\n",
       "    <tr>\n",
       "      <th>2</th>\n",
       "      <td>1.0</td>\n",
       "      <td>-1.358354</td>\n",
       "      <td>-1.340163</td>\n",
       "      <td>1.773209</td>\n",
       "      <td>0.379780</td>\n",
       "      <td>-0.503198</td>\n",
       "      <td>1.800499</td>\n",
       "      <td>0.791461</td>\n",
       "      <td>0.247676</td>\n",
       "      <td>-1.514654</td>\n",
       "      <td>...</td>\n",
       "      <td>0.247998</td>\n",
       "      <td>0.771679</td>\n",
       "      <td>0.909412</td>\n",
       "      <td>-0.689281</td>\n",
       "      <td>-0.327642</td>\n",
       "      <td>-0.139097</td>\n",
       "      <td>-0.055353</td>\n",
       "      <td>-0.059752</td>\n",
       "      <td>378.66</td>\n",
       "      <td>0</td>\n",
       "    </tr>\n",
       "    <tr>\n",
       "      <th>3</th>\n",
       "      <td>1.0</td>\n",
       "      <td>-0.966272</td>\n",
       "      <td>-0.185226</td>\n",
       "      <td>1.792993</td>\n",
       "      <td>-0.863291</td>\n",
       "      <td>-0.010309</td>\n",
       "      <td>1.247203</td>\n",
       "      <td>0.237609</td>\n",
       "      <td>0.377436</td>\n",
       "      <td>-1.387024</td>\n",
       "      <td>...</td>\n",
       "      <td>-0.108300</td>\n",
       "      <td>0.005274</td>\n",
       "      <td>-0.190321</td>\n",
       "      <td>-1.175575</td>\n",
       "      <td>0.647376</td>\n",
       "      <td>-0.221929</td>\n",
       "      <td>0.062723</td>\n",
       "      <td>0.061458</td>\n",
       "      <td>123.50</td>\n",
       "      <td>0</td>\n",
       "    </tr>\n",
       "    <tr>\n",
       "      <th>4</th>\n",
       "      <td>2.0</td>\n",
       "      <td>-1.158233</td>\n",
       "      <td>0.877737</td>\n",
       "      <td>1.548718</td>\n",
       "      <td>0.403034</td>\n",
       "      <td>-0.407193</td>\n",
       "      <td>0.095921</td>\n",
       "      <td>0.592941</td>\n",
       "      <td>-0.270533</td>\n",
       "      <td>0.817739</td>\n",
       "      <td>...</td>\n",
       "      <td>-0.009431</td>\n",
       "      <td>0.798278</td>\n",
       "      <td>-0.137458</td>\n",
       "      <td>0.141267</td>\n",
       "      <td>-0.206010</td>\n",
       "      <td>0.502292</td>\n",
       "      <td>0.219422</td>\n",
       "      <td>0.215153</td>\n",
       "      <td>69.99</td>\n",
       "      <td>0</td>\n",
       "    </tr>\n",
       "  </tbody>\n",
       "</table>\n",
       "<p>5 rows × 31 columns</p>\n",
       "</div>"
      ],
      "text/plain": [
       "   Time        V1        V2        V3        V4        V5        V6        V7  \\\n",
       "0   0.0 -1.359807 -0.072781  2.536347  1.378155 -0.338321  0.462388  0.239599   \n",
       "1   0.0  1.191857  0.266151  0.166480  0.448154  0.060018 -0.082361 -0.078803   \n",
       "2   1.0 -1.358354 -1.340163  1.773209  0.379780 -0.503198  1.800499  0.791461   \n",
       "3   1.0 -0.966272 -0.185226  1.792993 -0.863291 -0.010309  1.247203  0.237609   \n",
       "4   2.0 -1.158233  0.877737  1.548718  0.403034 -0.407193  0.095921  0.592941   \n",
       "\n",
       "         V8        V9  ...       V21       V22       V23       V24       V25  \\\n",
       "0  0.098698  0.363787  ... -0.018307  0.277838 -0.110474  0.066928  0.128539   \n",
       "1  0.085102 -0.255425  ... -0.225775 -0.638672  0.101288 -0.339846  0.167170   \n",
       "2  0.247676 -1.514654  ...  0.247998  0.771679  0.909412 -0.689281 -0.327642   \n",
       "3  0.377436 -1.387024  ... -0.108300  0.005274 -0.190321 -1.175575  0.647376   \n",
       "4 -0.270533  0.817739  ... -0.009431  0.798278 -0.137458  0.141267 -0.206010   \n",
       "\n",
       "        V26       V27       V28  Amount  Class  \n",
       "0 -0.189115  0.133558 -0.021053  149.62      0  \n",
       "1  0.125895 -0.008983  0.014724    2.69      0  \n",
       "2 -0.139097 -0.055353 -0.059752  378.66      0  \n",
       "3 -0.221929  0.062723  0.061458  123.50      0  \n",
       "4  0.502292  0.219422  0.215153   69.99      0  \n",
       "\n",
       "[5 rows x 31 columns]"
      ]
     },
     "execution_count": 47,
     "metadata": {},
     "output_type": "execute_result"
    }
   ],
   "source": [
    "df = pd.read_csv(path_data_credit_card)\n",
    "df.head()"
   ]
  },
  {
   "cell_type": "markdown",
   "metadata": {},
   "source": [
    "## Inspect class balance"
   ]
  },
  {
   "cell_type": "code",
   "execution_count": 48,
   "metadata": {},
   "outputs": [
    {
     "data": {
      "image/png": "[encoded data removed]",
      "text/plain": [
       "<Figure size 432x288 with 1 Axes>"
      ]
     },
     "metadata": {
      "needs_background": "light"
     },
     "output_type": "display_data"
    }
   ],
   "source": [
    "# visualize the target variable\n",
    "g_ = sns.countplot(y=df.Class)\n",
    "g_.set_yticklabels(['Not Fraud','Fraud'])\n",
    "plt.show()"
   ]
  },
  {
   "cell_type": "code",
   "execution_count": 49,
   "metadata": {},
   "outputs": [
    {
     "name": "stdout",
     "output_type": "stream",
     "text": [
      "No. of Non-Fraud Cases: 284315\n",
      "No. of Fraud Cases: 492\n",
      "No Frauds 99.83 % of the dataset\n",
      "Frauds 0.17 % of the dataset\n"
     ]
    }
   ],
   "source": [
    "n = df.Class.value_counts()[0]\n",
    "p = df.Class.value_counts()[1]\n",
    "\n",
    "print(f'No. of Non-Fraud Cases: {n}')\n",
    "print(f'No. of Fraud Cases: {p}')\n",
    "\n",
    "# Ratio of fraud cases to all cases. \n",
    "\n",
    "print('No Frauds', round(n/len(df) * 100,2), '% of the dataset')\n",
    "print('Frauds', round(p/len(df) * 100,2), '% of the dataset')"
   ]
  },
  {
   "cell_type": "code",
   "execution_count": 50,
   "metadata": {},
   "outputs": [
    {
     "data": {
      "text/plain": [
       "56961.4"
      ]
     },
     "execution_count": 50,
     "metadata": {},
     "output_type": "execute_result"
    }
   ],
   "source": [
    "len(df)/5"
   ]
  },
  {
   "cell_type": "markdown",
   "metadata": {},
   "source": [
    "## Split data for validation"
   ]
  },
  {
   "cell_type": "markdown",
   "metadata": {},
   "source": [
    "<img> <src=\"https://upload.wikimedia.org/wikipedia/commons/b/bb/ML_dataset_training_validation_test_sets.png\" width =\"500\" height=500 >"
   ]
  },
  {
   "cell_type": "markdown",
   "metadata": {},
   "source": []
  },
  {
   "cell_type": "code",
   "execution_count": 51,
   "metadata": {},
   "outputs": [],
   "source": [
    "n_splits = 5\n",
    "test_size = 0.2\n",
    "random_state = 6\n",
    "\n",
    "X = df.drop('Class', axis=1)\n",
    "y = df['Class']\n",
    "\n",
    "X_train, X_test, y_train, y_test = train_test_split(X, y, test_size=test_size, random_state=random_state)"
   ]
  },
  {
   "cell_type": "code",
   "execution_count": 57,
   "metadata": {},
   "outputs": [],
   "source": [
    "df_train = X_train\n",
    "df_train['Class'] = y_train"
   ]
  },
  {
   "cell_type": "markdown",
   "metadata": {},
   "source": [
    "## Divide data into 5 different sites with equal number of data points. "
   ]
  },
  {
   "cell_type": "code",
   "execution_count": 59,
   "metadata": {},
   "outputs": [],
   "source": [
    "subsets = []\n",
    "\n",
    "for i in range(5):\n",
    "    df_sub = df_train.sample(frac=0.2, replace=False, random_state=i)\n",
    "    subsets.append(df_sub)\n"
   ]
  },
  {
   "cell_type": "code",
   "execution_count": 60,
   "metadata": {},
   "outputs": [
    {
     "name": "stdout",
     "output_type": "stream",
     "text": [
      "0.001580021505848274\n",
      "0.0016239109921218373\n",
      "0.0017555794509425268\n",
      "0.001689745221532182\n",
      "0.0016678004783954004\n"
     ]
    }
   ],
   "source": [
    "for i in subsets: \n",
    "    n = i.Class.value_counts()[0]\n",
    "    p = i.Class.value_counts()[1]\n",
    "    print(p/(n+p))\n"
   ]
  },
  {
   "cell_type": "code",
   "execution_count": 65,
   "metadata": {},
   "outputs": [],
   "source": [
    "#agg_estimators = []\n",
    "\n",
    "subset_3 = subsets[2]\n",
    "\n",
    "X_subset_3 = subset_3.drop('Class', axis=1)\n",
    "y_subset_3 = subset_3['Class']\n",
    "\n",
    "abc_3 = AdaBoostClassifier(n_estimators=100, random_state=6)\n",
    "clf_3 = abc_3.fit(X_subset_3, y_subset_3)"
   ]
  },
  {
   "cell_type": "code",
   "execution_count": 67,
   "metadata": {},
   "outputs": [
    {
     "data": {
      "text/plain": [
       "list"
      ]
     },
     "execution_count": 67,
     "metadata": {},
     "output_type": "execute_result"
    }
   ],
   "source": [
    "type(clf_3.estimators_)"
   ]
  },
  {
   "cell_type": "code",
   "execution_count": 69,
   "metadata": {},
   "outputs": [
    {
     "data": {
      "text/plain": [
       "array([1., 1., 1., 1., 1., 1., 1., 1., 1., 1., 1., 1., 1., 1., 1., 1., 1.,\n",
       "       1., 1., 1., 1., 1., 1., 1., 1., 1., 1., 1., 1., 1., 1., 1., 1., 1.,\n",
       "       1., 1., 1., 1., 1., 1., 1., 1., 1., 1., 1., 1., 1., 1., 1., 1., 1.,\n",
       "       1., 1., 1., 1., 1., 1., 1., 1., 1., 1., 1., 1., 1., 1., 1., 1., 1.,\n",
       "       1., 1., 1., 1., 1., 1., 1., 1., 1., 1., 1., 1., 1., 1., 1., 1., 1.,\n",
       "       1., 1., 1., 1., 1., 1., 1., 1., 1., 1., 1., 1., 1., 1., 1.])"
      ]
     },
     "execution_count": 69,
     "metadata": {},
     "output_type": "execute_result"
    }
   ],
   "source": [
    "clf_3.estimator_weights_"
   ]
  },
  {
   "cell_type": "code",
   "execution_count": 68,
   "metadata": {},
   "outputs": [
    {
     "name": "stdout",
     "output_type": "stream",
     "text": [
      "0\n",
      "100\n",
      "200\n",
      "300\n",
      "400\n",
      "500\n"
     ]
    }
   ],
   "source": [
    "agg_estimators = []\n",
    "print(len(agg_estimators))\n",
    "\n",
    "for s in subsets: \n",
    "    X_s = s.drop('Class', axis=1)\n",
    "    y_s = s['Class']\n",
    "    abc_s = AdaBoostClassifier(n_estimators=100, random_state=6)\n",
    "    clf_s = abc_s.fit(X_s, y_s)\n",
    "    agg_estimators.extend(clf_s.estimators_)\n",
    "    print(len(agg_estimators))\n"
   ]
  },
  {
   "cell_type": "markdown",
   "metadata": {},
   "source": [
    "Some classification problems can exhibit a large imbalance in the distribution of the target classes: for instance there could be several times more negative samples than positive samples. In such cases it is recommended to use stratified sampling as implemented in StratifiedKFold and StratifiedShuffleSplit to ensure that relative class frequencies is approximately preserved in each train and validation fold. \n",
    "<br>\n",
    "<br>\n",
    "Source: https://scikit-learn.org/stable/modules/cross_validation.html (3.1.1.2)\n",
    "<br>\n",
    "<br>\n",
    "StratifiedShuffleSplit is a variation of ShuffleSplit, which returns stratified splits, i.e which creates splits by preserving the same percentage for each target class as in the complete set."
   ]
  },
  {
   "cell_type": "code",
   "execution_count": 27,
   "metadata": {},
   "outputs": [
    {
     "name": "stdout",
     "output_type": "stream",
     "text": [
      "TRAIN: [ 38269 102003 111768 ...  46600  49414  33378] TEST: [166032  82439  61960 ... 209257 184431 176723]\n",
      "TRAIN: [ 82830 188066  60942 ... 131136  74637  27911] TEST: [143771  79874 215530 ... 120378 189008 127716]\n",
      "TRAIN: [133083  61806  28085 ...  50360 182385 193320] TEST: [ 43592  60325 110685 ... 179265 139898    504]\n",
      "TRAIN: [ 93793  10153 194368 ...  44501 205041  69138] TEST: [ 54541 144049 119916 ... 145682 141331 183008]\n",
      "TRAIN: [145446 227432 218041 ... 127252 187173 159981] TEST: [182957 169605 195652 ... 147650  49174 117146]\n"
     ]
    }
   ],
   "source": [
    "sss = StratifiedShuffleSplit(n_splits=n_splits, test_size=test_size, random_state=random_state)\n",
    "\n",
    "# Returns the number of splitting iterations in the cross-validator\n",
    "# sss.get_n_splits(X, y)\n",
    "sss_results = sss.split(X_train, y_train)\n",
    "\n",
    "# Generate indices to split data into training and test set.\n",
    "for train_index, validate_index in sss_results:\n",
    "    print(\"TRAIN:\", train_index, \"TEST:\", validate_index)\n",
    "    X_train, X_validate = X.iloc[train_index], X.iloc[validate_index]\n",
    "    y_train, y_validate = y.iloc[train_index], y.iloc[validate_index]\n",
    "\n",
    "# Turn into an array\n",
    "X_train = X_train.values\n",
    "X_validate = X_validate.values\n",
    "y_train = y_train.values\n",
    "y_validate = y_validate.values"
   ]
  },
  {
   "cell_type": "code",
   "execution_count": 28,
   "metadata": {},
   "outputs": [
    {
     "data": {
      "text/plain": [
       "<AxesSubplot:title={'center':'StratifiedShuffleSplit'}, xlabel='Sample index', ylabel='CV iteration'>"
      ]
     },
     "execution_count": 28,
     "metadata": {},
     "output_type": "execute_result"
    },
    {
     "data": {
      "image/png": "[encoded data removed]",
      "text/plain": [
       "<Figure size 432x288 with 1 Axes>"
      ]
     },
     "metadata": {
      "needs_background": "light"
     },
     "output_type": "display_data"
    }
   ],
   "source": [
    "def plot_cv_indices(cv, X, y, ax, n_splits, lw=10):\n",
    "    \"\"\"Create a sample plot for indices of a cross-validation object.\"\"\"\n",
    "\n",
    "    # Generate the training/testing visualizations for each CV split\n",
    "    for ii, (tr, tt) in enumerate(cv.split(X=X, y=y)):\n",
    "        # Fill in indices with the training/test groups\n",
    "        indices = np.array([np.nan] * len(X))\n",
    "        indices[tt] = 1\n",
    "        indices[tr] = 0\n",
    "\n",
    "        # Visualize the results\n",
    "        ax.scatter(range(len(indices)), [ii + .5] * len(indices),\n",
    "                   c=indices, marker='_', lw=lw, cmap=cmap_cv,\n",
    "                   vmin=-.2, vmax=1.2)\n",
    "\n",
    "    # Plot the data classes and groups at the end\n",
    "    ax.scatter(range(len(X)), [ii + 1.5] * len(X),\n",
    "               c=y, marker='_', lw=lw, cmap=cmap_data)\n",
    "\n",
    "    # Formatting\n",
    "    yticklabels = list(range(n_splits)) + ['class']\n",
    "    ax.set(yticks=np.arange(n_splits+1) + .5, yticklabels=yticklabels,\n",
    "           xlabel='Sample index', ylabel=\"CV iteration\",\n",
    "           ylim=[n_splits+2.2, -.2], xlim=[0, len(X)])\n",
    "    ax.set_title('{}'.format(type(cv).__name__), fontsize=15)\n",
    "    return ax\n",
    "\n",
    "fig, ax = plt.subplots()\n",
    "cv = StratifiedShuffleSplit(n_splits, test_size=test_size, random_state=random_state)\n",
    "plot_cv_indices(cv, X_train, y_train, ax, n_splits)"
   ]
  },
  {
   "cell_type": "markdown",
   "metadata": {},
   "source": [
    "## AdaBoost"
   ]
  },
  {
   "cell_type": "code",
   "execution_count": 35,
   "metadata": {},
   "outputs": [],
   "source": [
    "abc_central_500 = AdaBoostClassifier(n_estimators=500, random_state=6)\n",
    "clf_500 = abc_central_500.fit(X_train, y_train)\n"
   ]
  },
  {
   "cell_type": "code",
   "execution_count": 37,
   "metadata": {},
   "outputs": [
    {
     "name": "stdout",
     "output_type": "stream",
     "text": [
      "AdaBoost Classifier Model F-1 Score: [0.99963727 0.79503106]\n",
      "AdaBoost Classifier Model MCC Score: 0.8002852888658288\n",
      "AdaBoost Classifier Model AUC Score: 0.9435119017079924\n",
      "AdaBoost Classifier Model ACC Score: 0.8554785969592804\n"
     ]
    }
   ],
   "source": [
    "y_pred_500 = clf_500.predict(X_validate)\n",
    "y_prob_500 = clf_500.predict_proba(X_validate)[:, 1]\n",
    "\n",
    "# calculate and print model evaluation metrics\n",
    "print(\"AdaBoost Classifier Model F-1 Score:\", f1_score(y_validate, y_pred_500, average=None))\n",
    "print(\"AdaBoost Classifier Model MCC Score:\", matthews_corrcoef(y_validate, y_pred_500))\n",
    "print(\"AdaBoost Classifier Model AUC Score:\", roc_auc_score(y_validate, y_prob_500, average=None))\n",
    "print(\"AdaBoost Classifier Model ACC Score:\", balanced_accuracy_score(y_validate, y_pred_500))"
   ]
  },
  {
   "cell_type": "code",
   "execution_count": 38,
   "metadata": {},
   "outputs": [
    {
     "name": "stderr",
     "output_type": "stream",
     "text": [
      "/Library/Frameworks/Python.framework/Versions/3.8/lib/python3.8/site-packages/sklearn/base.py:434: UserWarning: X has feature names, but AdaBoostClassifier was fitted without feature names\n",
      "  warnings.warn(\n",
      "/Library/Frameworks/Python.framework/Versions/3.8/lib/python3.8/site-packages/sklearn/base.py:434: UserWarning: X has feature names, but AdaBoostClassifier was fitted without feature names\n",
      "  warnings.warn(\n"
     ]
    },
    {
     "name": "stdout",
     "output_type": "stream",
     "text": [
      "AdaBoost Classifier Model F-1 Score: [0.99985933 0.91304348]\n",
      "AdaBoost Classifier Model MCC Score: 0.9148573506231311\n",
      "AdaBoost Classifier Model AUC Score: 0.9877394542510307\n",
      "AdaBoost Classifier Model ACC Score: 0.9285538427526328\n"
     ]
    }
   ],
   "source": [
    "y_pred_t_500 = clf_500.predict(X_test)\n",
    "y_prob_t_500 = clf_500.predict_proba(X_test)[:, 1]\n",
    "\n",
    "# calculate and print model evaluation metrics\n",
    "print(\"AdaBoost Classifier Model F-1 Score:\", f1_score(y_test, y_pred_t_500, average=None))\n",
    "print(\"AdaBoost Classifier Model MCC Score:\", matthews_corrcoef(y_test, y_pred_t_500))\n",
    "print(\"AdaBoost Classifier Model AUC Score:\", roc_auc_score(y_test, y_prob_t_500, average=None))\n",
    "print(\"AdaBoost Classifier Model ACC Score:\", balanced_accuracy_score(y_test, y_pred_t_500))"
   ]
  },
  {
   "cell_type": "code",
   "execution_count": 36,
   "metadata": {},
   "outputs": [],
   "source": [
    "abc_central_700 = AdaBoostClassifier(n_estimators=700, random_state=6)\n",
    "clf_700 = abc_central_700.fit(X_train, y_train)\n"
   ]
  },
  {
   "cell_type": "code",
   "execution_count": 40,
   "metadata": {},
   "outputs": [
    {
     "name": "stdout",
     "output_type": "stream",
     "text": [
      "AdaBoost Classifier Model F-1 Score: [0.99962628 0.79012346]\n",
      "AdaBoost Classifier Model MCC Score: 0.7946924748813938\n",
      "AdaBoost Classifier Model AUC Score: 0.9453462037423865\n",
      "AdaBoost Classifier Model ACC Score: 0.8554676028740982\n"
     ]
    }
   ],
   "source": [
    "y_pred_700 = clf_700.predict(X_validate)\n",
    "y_prob_700 = clf_700.predict_proba(X_validate)[:, 1]\n",
    "\n",
    "# calculate and print model evaluation metrics\n",
    "print(\"AdaBoost Classifier Model F-1 Score:\", f1_score(y_validate, y_pred_700, average=None))\n",
    "print(\"AdaBoost Classifier Model MCC Score:\", matthews_corrcoef(y_validate, y_pred_700))\n",
    "print(\"AdaBoost Classifier Model AUC Score:\", roc_auc_score(y_validate, y_prob_700, average=None))\n",
    "print(\"AdaBoost Classifier Model ACC Score:\", balanced_accuracy_score(y_validate, y_pred_700))"
   ]
  },
  {
   "cell_type": "code",
   "execution_count": 41,
   "metadata": {},
   "outputs": [
    {
     "name": "stderr",
     "output_type": "stream",
     "text": [
      "/Library/Frameworks/Python.framework/Versions/3.8/lib/python3.8/site-packages/sklearn/base.py:434: UserWarning: X has feature names, but AdaBoostClassifier was fitted without feature names\n",
      "  warnings.warn(\n",
      "/Library/Frameworks/Python.framework/Versions/3.8/lib/python3.8/site-packages/sklearn/base.py:434: UserWarning: X has feature names, but AdaBoostClassifier was fitted without feature names\n",
      "  warnings.warn(\n"
     ]
    },
    {
     "name": "stdout",
     "output_type": "stream",
     "text": [
      "AdaBoost Classifier Model F-1 Score: [0.99985933 0.91397849]\n",
      "AdaBoost Classifier Model MCC Score: 0.9151661554456142\n",
      "AdaBoost Classifier Model AUC Score: 0.9870740642908824\n",
      "AdaBoost Classifier Model ACC Score: 0.9336470906595615\n"
     ]
    }
   ],
   "source": [
    "y_pred_t_700 = clf_700.predict(X_test)\n",
    "y_prob_t_700 = clf_700.predict_proba(X_test)[:, 1]\n",
    "\n",
    "# calculate and print model evaluation metrics\n",
    "print(\"AdaBoost Classifier Model F-1 Score:\", f1_score(y_test, y_pred_t_700, average=None))\n",
    "print(\"AdaBoost Classifier Model MCC Score:\", matthews_corrcoef(y_test, y_pred_t_700))\n",
    "print(\"AdaBoost Classifier Model AUC Score:\", roc_auc_score(y_test, y_prob_t_700, average=None))\n",
    "print(\"AdaBoost Classifier Model ACC Score:\", balanced_accuracy_score(y_test, y_pred_t_700))"
   ]
  },
  {
   "cell_type": "code",
   "execution_count": 10,
   "metadata": {},
   "outputs": [
    {
     "name": "stdout",
     "output_type": "stream",
     "text": [
      "Best parameter (CV score=0.800):\n",
      "{'abc__n_estimators': 500}\n"
     ]
    }
   ],
   "source": [
    "abc = AdaBoostClassifier(random_state=7)\n",
    "pipe = Pipeline(\n",
    "    steps=[\n",
    "        ('abc', abc)\n",
    "        ]\n",
    "    )\n",
    "\n",
    "# Parameters of pipelines can be set using ‘__’ separated parameter names:\n",
    "param_grid = {\n",
    "    'abc__n_estimators': [100, 200, 500]\n",
    "}\n",
    "\n",
    "# Scoring options: https://scikit-learn.org/stable/modules/model_evaluation.html#scoring-parameter\n",
    "# scoring = ['balanced_accuracy', 'roc_auc', 'matthews_corrcoef', 'f1']\n",
    "\n",
    "scoring = {\n",
    "    'acc': 'balanced_accuracy',\n",
    "    'roc_auc': 'roc_auc', \n",
    "    'mcc': make_scorer(matthews_corrcoef), \n",
    "    'f1': 'f1'\n",
    "    }\n",
    "\n",
    "search = GridSearchCV(pipe, param_grid, cv=sss, scoring='f1', n_jobs=-1)\n",
    "search.fit(X, y)\n",
    "\n",
    "print(\"Best parameter (CV score=%0.3f):\" % search.best_score_)\n",
    "print(search.best_params_)"
   ]
  },
  {
   "cell_type": "code",
   "execution_count": 11,
   "metadata": {},
   "outputs": [
    {
     "data": {
      "text/plain": [
       "Pipeline(steps=[('abc', AdaBoostClassifier(n_estimators=500, random_state=7))])"
      ]
     },
     "execution_count": 11,
     "metadata": {},
     "output_type": "execute_result"
    }
   ],
   "source": [
    "search.best_estimator_"
   ]
  },
  {
   "cell_type": "code",
   "execution_count": 12,
   "metadata": {},
   "outputs": [
    {
     "data": {
      "text/plain": [
       "0.8002061996971319"
      ]
     },
     "execution_count": 12,
     "metadata": {},
     "output_type": "execute_result"
    }
   ],
   "source": [
    "search.best_score_"
   ]
  },
  {
   "cell_type": "code",
   "execution_count": 13,
   "metadata": {},
   "outputs": [
    {
     "data": {
      "text/plain": [
       "{'mean_fit_time': array([169.10331841, 322.46918082, 799.90453906]),\n",
       " 'std_fit_time': array([  3.94061252,   7.54174997, 108.54514598]),\n",
       " 'mean_score_time': array([1.227425  , 2.13430476, 4.47422462]),\n",
       " 'std_score_time': array([0.10869613, 0.0778125 , 0.86218942]),\n",
       " 'param_abc__n_estimators': masked_array(data=[100, 200, 500],\n",
       "              mask=[False, False, False],\n",
       "        fill_value='?',\n",
       "             dtype=object),\n",
       " 'params': [{'abc__n_estimators': 100},\n",
       "  {'abc__n_estimators': 200},\n",
       "  {'abc__n_estimators': 500}],\n",
       " 'split0_test_score': array([0.76243094, 0.76502732, 0.80645161]),\n",
       " 'split1_test_score': array([0.79144385, 0.80662983, 0.82162162]),\n",
       " 'split2_test_score': array([0.7816092 , 0.79768786, 0.80681818]),\n",
       " 'split3_test_score': array([0.76842105, 0.79792746, 0.78453039]),\n",
       " 'split4_test_score': array([0.71428571, 0.73619632, 0.7816092 ]),\n",
       " 'mean_test_score': array([0.76363815, 0.78069376, 0.8002062 ]),\n",
       " 'std_test_score': array([0.02666875, 0.02639674, 0.01505273]),\n",
       " 'rank_test_score': array([3, 2, 1], dtype=int32)}"
      ]
     },
     "execution_count": 13,
     "metadata": {},
     "output_type": "execute_result"
    }
   ],
   "source": [
    "search.cv_results_"
   ]
  },
  {
   "cell_type": "code",
   "execution_count": 14,
   "metadata": {},
   "outputs": [
    {
     "data": {
      "text/plain": [
       "'f1'"
      ]
     },
     "execution_count": 14,
     "metadata": {},
     "output_type": "execute_result"
    }
   ],
   "source": [
    "search.scoring"
   ]
  },
  {
   "cell_type": "code",
   "execution_count": 18,
   "metadata": {},
   "outputs": [
    {
     "name": "stdout",
     "output_type": "stream",
     "text": [
      "Best parameter (CV score=0.800):\n",
      "{'abc__n_estimators': 500}\n"
     ]
    }
   ],
   "source": [
    "param_grid_2 = {\n",
    "    'abc__n_estimators': [500, 1000, 2000]\n",
    "}\n",
    "\n",
    "search_2 = GridSearchCV(pipe, param_grid_2, cv=sss, scoring='f1', n_jobs=-1)\n",
    "search_2.fit(X, y)\n",
    "\n",
    "print(\"Best parameter (CV score=%0.3f):\" % search_2.best_score_)\n",
    "print(search_2.best_params_)"
   ]
  },
  {
   "cell_type": "code",
   "execution_count": 20,
   "metadata": {},
   "outputs": [
    {
     "name": "stdout",
     "output_type": "stream",
     "text": [
      "Best parameter (CV score=0.805):\n",
      "{'abc__n_estimators': 600}\n"
     ]
    }
   ],
   "source": [
    "param_grid_3 = {\n",
    "    'abc__n_estimators': [400, 500, 600]\n",
    "}\n",
    "\n",
    "search_3 = GridSearchCV(pipe, param_grid_3, cv=sss, scoring='f1', n_jobs=-1)\n",
    "search_3.fit(X, y)\n",
    "\n",
    "print(\"Best parameter (CV score=%0.3f):\" % search_3.best_score_)\n",
    "print(search_3.best_params_)"
   ]
  },
  {
   "cell_type": "code",
   "execution_count": 21,
   "metadata": {},
   "outputs": [
    {
     "name": "stdout",
     "output_type": "stream",
     "text": [
      "Best parameter (CV score=0.808):\n",
      "{'abc__n_estimators': 700}\n"
     ]
    }
   ],
   "source": [
    "param_grid_4 = {\n",
    "    'abc__n_estimators': [700, 800]\n",
    "}\n",
    "\n",
    "search_4 = GridSearchCV(pipe, param_grid_4, cv=sss, scoring='f1', n_jobs=-1)\n",
    "search_4.fit(X, y)\n",
    "\n",
    "print(\"Best parameter (CV score=%0.3f):\" % search_4.best_score_)\n",
    "print(search_4.best_params_)"
   ]
  }
 ],
 "metadata": {
  "interpreter": {
   "hash": "aee8b7b246df8f9039afb4144a1f6fd8d2ca17a180786b69acc140d282b71a49"
  },
  "kernelspec": {
   "display_name": "Python 3.8.2 64-bit",
   "name": "python3"
  },
  "language_info": {
   "codemirror_mode": {
    "name": "ipython",
    "version": 3
   },
   "file_extension": ".py",
   "mimetype": "text/x-python",
   "name": "python",
   "nbconvert_exporter": "python",
   "pygments_lexer": "ipython3",
   "version": "3.8.2"
  }
 },
 "nbformat": 4,
 "nbformat_minor": 2
}
